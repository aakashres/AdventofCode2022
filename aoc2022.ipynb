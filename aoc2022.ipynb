{
 "cells": [
  {
   "cell_type": "code",
   "execution_count": 1,
   "metadata": {},
   "outputs": [
    {
     "data": {
      "text/plain": [
       "(71780, 212489)"
      ]
     },
     "execution_count": 1,
     "metadata": {},
     "output_type": "execute_result"
    }
   ],
   "source": [
    "# Day 1\n",
    "calories = []\n",
    "with open(\"input1.txt\", \"r\") as fp:\n",
    "    e_sum = 0\n",
    "    for i in fp.readlines():\n",
    "        try:\n",
    "            x = int(i.strip(\"\\n\"))\n",
    "            e_sum += x\n",
    "        except ValueError:\n",
    "            calories.append(e_sum)\n",
    "            e_sum=0\n",
    "calories.sort(reverse=True)\n",
    "calories[0], calories[0] + calories[1] + calories[2]"
   ]
  },
  {
   "cell_type": "code",
   "execution_count": 2,
   "metadata": {},
   "outputs": [
    {
     "data": {
      "text/plain": [
       "212489"
      ]
     },
     "execution_count": 2,
     "metadata": {},
     "output_type": "execute_result"
    }
   ],
   "source": [
    "# Day 1\n",
    "first, second, third = 0, 0, 0\n",
    "with open(\"input1.txt\", \"r\") as fp:\n",
    "    e_sum = 0\n",
    "    for i in fp.readlines():\n",
    "        try:\n",
    "            e_sum += int(i.strip(\"\\n\"))\n",
    "        except ValueError:\n",
    "            if e_sum >= first:\n",
    "                third, second, first = second, first, e_sum\n",
    "            elif e_sum >= second:\n",
    "                third, second = second, e_sum\n",
    "            elif e_sum >= third:\n",
    "                third = e_sum\n",
    "            e_sum = 0\n",
    "                \n",
    "first + second + third"
   ]
  },
  {
   "cell_type": "code",
   "execution_count": 3,
   "metadata": {},
   "outputs": [
    {
     "data": {
      "text/plain": [
       "12772"
      ]
     },
     "execution_count": 3,
     "metadata": {},
     "output_type": "execute_result"
    }
   ],
   "source": [
    "# Day 2\n",
    "score_map = {\n",
    "    \"A\": (\"Rock\", 1),\n",
    "    \"B\": (\"Paper\", 2),\n",
    "    \"C\": (\"Scissors\", 3),\n",
    "    \"X\": (\"Rock\", 1),\n",
    "    \"Y\": (\"Paper\", 2),\n",
    "    \"Z\": (\"Scissors\", 3),\n",
    "}\n",
    "my_score = 0\n",
    "with open(\"input2.txt\", \"r\") as fp:\n",
    "    for i in fp.readlines():\n",
    "        o, m = i.strip(\"\\n\").split(\" \")\n",
    "        o_i, m_i = score_map.get(o)[0], score_map.get(m)[0]\n",
    "        my_score += score_map.get(m)[1]\n",
    "        if (m_i == \"Rock\" and o_i == \"Scissors\") or (m_i == \"Scissors\" and o_i == \"Paper\") or (m_i == \"Paper\" and o_i == \"Rock\"):\n",
    "            my_score += 6\n",
    "        elif (m_i == o_i):\n",
    "            my_score += 3\n",
    "my_score"
   ]
  },
  {
   "cell_type": "code",
   "execution_count": 4,
   "metadata": {},
   "outputs": [
    {
     "data": {
      "text/plain": [
       "11618"
      ]
     },
     "execution_count": 4,
     "metadata": {},
     "output_type": "execute_result"
    }
   ],
   "source": [
    "# Day 2\n",
    "score_map = {\n",
    "    \"A\": (\"Rock\", 1),\n",
    "    \"B\": (\"Paper\", 2),\n",
    "    \"C\": (\"Scissors\", 3),\n",
    "    \"Rock\": 1,\n",
    "    \"Paper\":2,\n",
    "    \"Scissors\":3,\n",
    "    \"X\": 2,\n",
    "    \"Y\": 1,\n",
    "    \"Z\": 0\n",
    "}\n",
    "instruction_map = {\n",
    "    \"Rock\": (\"Paper\", \"Rock\" ,\"Scissors\"),\n",
    "    \"Paper\": (\"Scissors\", \"Paper\", \"Rock\"),\n",
    "    \"Scissors\": (\"Rock\", \"Scissors\", \"Paper\"),\n",
    "}\n",
    "my_score = 0\n",
    "with open(\"input2.txt\", \"r\") as fp:\n",
    "    for i in fp.readlines():\n",
    "        o, m = i.strip(\"\\n\").split(\" \")\n",
    "        o_i = score_map.get(o)[0]\n",
    "        m_i = instruction_map.get(o_i)[score_map.get(m)]\n",
    "        my_score += score_map.get(m_i)\n",
    "        if (m_i == \"Rock\" and o_i == \"Scissors\") or (m_i == \"Scissors\" and o_i == \"Paper\") or (m_i == \"Paper\" and o_i == \"Rock\"):\n",
    "            my_score += 6\n",
    "        elif (m_i == o_i):\n",
    "            my_score += 3\n",
    "my_score"
   ]
  },
  {
   "cell_type": "code",
   "execution_count": 5,
   "metadata": {},
   "outputs": [
    {
     "data": {
      "text/plain": [
       "7811"
      ]
     },
     "execution_count": 5,
     "metadata": {},
     "output_type": "execute_result"
    }
   ],
   "source": [
    "#Day 3\n",
    "total = 0\n",
    "with open(\"input3.txt\", \"r\") as fp:\n",
    "    for i in fp.readlines():\n",
    "        i = i.strip(\"\\n\")\n",
    "        mid = len(i)//2\n",
    "        first, second = i[0:mid], i[mid:]\n",
    "        common = list(set(first) & set(second))[0]  \n",
    "        val = ord(common)\n",
    "        val = (val-96) if val > 96 else (val - 64 + 26)\n",
    "        total += val\n",
    "total"
   ]
  },
  {
   "cell_type": "code",
   "execution_count": 6,
   "metadata": {},
   "outputs": [
    {
     "data": {
      "text/plain": [
       "2639"
      ]
     },
     "execution_count": 6,
     "metadata": {},
     "output_type": "execute_result"
    }
   ],
   "source": [
    "#Day 3\n",
    "badges, count, total = [\"\", \"\", \"\"], 0, 0\n",
    "with open(\"input3.txt\", \"r\") as fp:\n",
    "    for i in fp.readlines():\n",
    "        badges[count%3] = i.strip(\"\\n\")\n",
    "        if (count+1)%3 == 0:\n",
    "            common = list(set(badges[0]) & set(badges[1]) & set(badges[2]))[0]\n",
    "            val = ord(common)\n",
    "            val = (val-96) if val > 96 else (val - 64 + 26)\n",
    "            total += val\n",
    "        count += 1\n",
    "total"
   ]
  },
  {
   "cell_type": "code",
   "execution_count": 7,
   "metadata": {},
   "outputs": [
    {
     "data": {
      "text/plain": [
       "(413, 806)"
      ]
     },
     "execution_count": 7,
     "metadata": {},
     "output_type": "execute_result"
    }
   ],
   "source": [
    "# Day 4\n",
    "overlapped = 0\n",
    "full_contained= 0\n",
    "with open(\"input4.txt\", \"r\") as fp:\n",
    "    for i in fp.readlines():\n",
    "        first,second = i.strip().split(\",\")\n",
    "        first_s,first_f = list(map(int, first.split(\"-\")))\n",
    "        second_s,second_f = list(map(int, second.split(\"-\")))\n",
    "        first_set = set(list(range(first_s, first_f+1)))\n",
    "        second_set = set(list(range(second_s, second_f+1)))\n",
    "        if(len(first_set - second_set) == 0 or len(second_set - first_set)== 0):\n",
    "            full_contained +=1\n",
    "        if(len(first_set & second_set) >0):\n",
    "            overlapped +=1\n",
    "full_contained, overlapped"
   ]
  },
  {
   "cell_type": "code",
   "execution_count": 8,
   "metadata": {},
   "outputs": [
    {
     "data": {
      "text/plain": [
       "'NTWZZWHFV'"
      ]
     },
     "execution_count": 8,
     "metadata": {},
     "output_type": "execute_result"
    }
   ],
   "source": [
    "# Day 5\n",
    "import string\n",
    "stacks = [[], [], [], [], [], [], [], [], []]\n",
    "data, instruction = True, False\n",
    "with open(\"input5.txt\", \"r\") as fp:\n",
    "    for i in fp.readlines():\n",
    "        i = i.strip(\"\\n\")\n",
    "        if i == \"\":\n",
    "            instruction = True\n",
    "            data = False\n",
    "            continue\n",
    "        if data:\n",
    "            counter = 1\n",
    "            for j in stacks:\n",
    "                val = i[counter]\n",
    "                if val.isalpha():\n",
    "                    j.insert(0, val)\n",
    "                counter+=4\n",
    "        if instruction:\n",
    "            z = i.split(\" \")\n",
    "            quant, source, dest = int(z[1]), int(z[3]), int(z[5])\n",
    "            moving = []\n",
    "            while quant != 0:\n",
    "                moving.append(stacks[source-1].pop())\n",
    "                quant -= 1\n",
    "            stacks[dest-1].extend(moving)\n",
    "x = \"\"\n",
    "for i in stacks:\n",
    "    x += i.pop()\n",
    "x\n"
   ]
  },
  {
   "cell_type": "code",
   "execution_count": 9,
   "metadata": {},
   "outputs": [
    {
     "data": {
      "text/plain": [
       "'BRZGFVBTJ'"
      ]
     },
     "execution_count": 9,
     "metadata": {},
     "output_type": "execute_result"
    }
   ],
   "source": [
    "# Day 5\n",
    "import string\n",
    "stacks = [[], [], [], [], [], [], [], [], []]\n",
    "data, instruction = True, False\n",
    "with open(\"input5.txt\", \"r\") as fp:\n",
    "    for i in fp.readlines():\n",
    "        i = i.strip(\"\\n\")\n",
    "        if i == \"\":\n",
    "            instruction = True\n",
    "            data = False\n",
    "            continue\n",
    "        if data:\n",
    "            counter = 1\n",
    "            for j in stacks:\n",
    "                val = i[counter]\n",
    "                if val.isalpha():\n",
    "                    j.insert(0, val)\n",
    "                counter+=4\n",
    "        if instruction:\n",
    "            z = i.split(\" \")\n",
    "            quant, source, dest = int(z[1]), int(z[3]), int(z[5])\n",
    "            moving = []\n",
    "            while quant != 0:\n",
    "                moving.append(stacks[source-1].pop())\n",
    "                quant -= 1\n",
    "            moving.reverse()\n",
    "            stacks[dest-1].extend(moving)\n",
    "x = \"\"\n",
    "for i in stacks:\n",
    "    x += i.pop()\n",
    "x\n"
   ]
  },
  {
   "cell_type": "code",
   "execution_count": 21,
   "metadata": {},
   "outputs": [
    {
     "name": "stdout",
     "output_type": "stream",
     "text": [
      "1109\n",
      "3965\n"
     ]
    }
   ],
   "source": [
    "# Day6\n",
    "chars = \"\"\n",
    "with open(\"input6.txt\", \"r\") as fp:\n",
    "    chars = fp.readline()\n",
    "\n",
    "    for i in range(len(chars)-3):\n",
    "        markers = chars[i:i+4]\n",
    "        if len(set(markers)) == 4:\n",
    "            print(i+4)\n",
    "            break\n",
    "    for i in range(len(chars)-13):\n",
    "        markers = chars[i:i+14]\n",
    "        if len(set(markers)) == 14:\n",
    "            print(i+14)\n",
    "            break"
   ]
  },
  {
   "cell_type": "code",
   "execution_count": 201,
   "metadata": {},
   "outputs": [
    {
     "name": "stdout",
     "output_type": "stream",
     "text": [
      "1543140 1117448\n"
     ]
    }
   ],
   "source": [
    "#day7\n",
    "import json\n",
    "from collections.abc import MutableMapping\n",
    "\n",
    "filesystem = {\"/\":{\"size\": 0}}\n",
    "curr = \"\"\n",
    "mode =  \"\"\n",
    "with open(\"input7.txt\", \"r\") as fp:\n",
    "    for i in fp.readlines():\n",
    "        i = i.rstrip(\"\\n\")\n",
    "        if \"$\" in i:\n",
    "            i = i.lstrip(\"$ \").strip()\n",
    "            if \"cd\" in i:\n",
    "                c,d = i.split(\" \")\n",
    "                if d == \"..\":\n",
    "                    dirs = curr.strip(\".\").split(\".\")\n",
    "                    curr = \".\" + \".\".join(dirs[:-1])\n",
    "                else:\n",
    "                    curr += f\".{d}\"\n",
    "            continue\n",
    "        else:\n",
    "            c,d = i.split(\" \")\n",
    "            curr_fs = filesystem\n",
    "            for i in curr.strip(\".\").split(\".\"):\n",
    "                curr_fs = curr_fs.get(i)\n",
    "            if c == \"dir\":\n",
    "                curr_fs.update({d: {\"size\": 0}})\n",
    "            else:\n",
    "                curr_fs.update({d: int(c)})\n",
    "                \n",
    "def update_dir_size(dmap, parent):\n",
    "    for k,v in dmap.items():\n",
    "        if isinstance(v, dict):\n",
    "            update_dir_size(v, dmap)\n",
    "            dmap[\"size\"] += v[\"size\"]\n",
    "        else:\n",
    "            if k != \"size\":\n",
    "                dmap[\"size\"] += v\n",
    "update_dir_size(filesystem.get(\"/\"), filesystem)\n",
    "\n",
    "\n",
    "def flatten_dict(d: MutableMapping, parent_key: str = '', sep: str ='.') -> MutableMapping:\n",
    "    items = []\n",
    "    for k, v in d.items():\n",
    "        new_key = parent_key + sep + k if parent_key else k\n",
    "        if isinstance(v, MutableMapping):\n",
    "            items.extend(flatten_dict(v, new_key, sep=sep).items())\n",
    "        else:\n",
    "            items.append((new_key, v))\n",
    "    return dict(items)\n",
    "total = 0\n",
    "for k,v in flatten_dict(filesystem).items():\n",
    "    if \".size\" in k and v <= 100000:\n",
    "        total +=  v\n",
    "total_size = filesystem[\"/\"][\"size\"]\n",
    "required = total_size - 40000000\n",
    "sizes = []\n",
    "for k,v in flatten_dict(filesystem).items():\n",
    "    if \".size\" in k and v >= required:\n",
    "        sizes.append(v)\n",
    "print(total, min(sizes))"
   ]
  },
  {
   "cell_type": "code",
   "execution_count": 1,
   "metadata": {},
   "outputs": [
    {
     "name": "stdout",
     "output_type": "stream",
     "text": [
      "21\n",
      "8\n",
      "[[True, True, True, True, True], [True, True, True, False, True], [True, True, False, True, True], [True, False, True, False, True], [True, True, True, True, True]]\n"
     ]
    }
   ],
   "source": [
    "#day 8\n",
    "count = 0\n",
    "visibility = []\n",
    "scenic_score = []\n",
    "trees = []\n",
    "with open(\"input8.txt\", \"r\") as fp:\n",
    "    for i in fp.readlines():\n",
    "        z = list(map(int, i.strip(\"\\n\")))\n",
    "        trees.append(z)\n",
    "        visibility.append([True for x in z])\n",
    "        scenic_score.append([0 for x in z])\n",
    "        \n",
    "rows, cols = len(trees), len(trees[0])\n",
    "max_s = 0\n",
    "for i in range(rows):\n",
    "    for j in range(cols):\n",
    "        if i == 0 or j == 0 or i == rows - 1 or j == cols - 1:\n",
    "            continue\n",
    "        else:\n",
    "            top_visible, bot_visible, left_visible, right_visible = True, True, True,True\n",
    "            top, bot, left, right = 0,0,0,0\n",
    "            for k in range(j-1,-1, -1):\n",
    "                top += 1\n",
    "                if trees[i][k] >= trees[i][j]:\n",
    "                    left_visible = False\n",
    "                    break\n",
    "            for k in range(j+1, cols):\n",
    "                bot += 1\n",
    "                if trees[i][k] >= trees[i][j]:\n",
    "                    right_visible = False\n",
    "                    break\n",
    "            for k in range(i-1,-1, -1):\n",
    "                left += 1\n",
    "                if trees[k][j] >= trees[i][j]:\n",
    "                    top_visible = False\n",
    "                    break\n",
    "            for k in range(i+1, rows):\n",
    "                right += 1\n",
    "                if trees[k][j] >= trees[i][j]:\n",
    "                    bot_visible = False\n",
    "                    break\n",
    "            scenic_score[i][j] = top*bot*left*right\n",
    "            if scenic_score[i][j] > max_s:\n",
    "                max_s = scenic_score[i][j]\n",
    "            visible = top_visible or bot_visible or left_visible  or right_visible\n",
    "            visibility[i][j] = visible\n",
    "            if not visible:\n",
    "                count += 1\n",
    "print(rows*cols- count)\n",
    "print(max_s)\n",
    "print(visibility)\n"
   ]
  },
  {
   "cell_type": "code",
   "execution_count": 65,
   "metadata": {},
   "outputs": [
    {
     "name": "stdout",
     "output_type": "stream",
     "text": [
      "6197\n",
      "2562\n",
      "6197\n",
      "2562\n"
     ]
    }
   ],
   "source": [
    "# Day 9\n",
    "\n",
    "# Helpers\n",
    "direction_movement = {\n",
    "    \"R\": (1, 0),\n",
    "    \"L\": (-1, 0),\n",
    "    \"U\": (0,1),\n",
    "    \"D\": (0,-1)\n",
    "}\n",
    "\n",
    "def move(position, movement):\n",
    "    return (position[0]+movement[0], position[1]+movement[1])\n",
    "\n",
    "def move_tail(old_head, new_head, old_tail, direction):\n",
    "    required_positions = get_tail_intendend_position(new_head)\n",
    "    if old_tail not in required_positions:\n",
    "        dx = new_head[0] - old_tail[0]\n",
    "        if dx != 0:\n",
    "            dx = dx // abs(dx)\n",
    "        dy = new_head[1] - old_tail[1]\n",
    "        if dy != 0:\n",
    "            dy = dy // abs(dy)\n",
    "        old_tail = move(old_tail, (dx,dy))\n",
    "    return old_tail\n",
    "\n",
    "def get_tail_intendend_position(position):\n",
    "    x,y = position\n",
    "    return [(x+1, y), (x-1,y), (x,y+1), (x,y-1), (x-1, y+1), (x+1, y+1),(x-1, y-1), (x+1, y-1)]\n",
    "\n",
    "# 1 Head 1 Tail 2 Rope length\n",
    "head, tail = (0,0), (0,0)\n",
    "tail_position = set()\n",
    "with open(\"input9.txt\", \"r\") as fp:\n",
    "    for command in fp.readlines():\n",
    "        command = command.strip()\n",
    "        direction, steps = command.split(\" \")\n",
    "        steps = int(steps)\n",
    "        for i in range(steps):\n",
    "            new_head = move(head, direction_movement.get(direction))\n",
    "            tail = move_tail(head, new_head, tail, direction)\n",
    "            tail_position.add(tail)\n",
    "            head = new_head\n",
    "print(len(tail_position))\n",
    "\n",
    "\n",
    "# 1 Head 9 Tail 10 Rope length\n",
    "head = (0,0)\n",
    "tails = [(0,0) for i in range(9)]\n",
    "tail_position = set()\n",
    "with open(\"input9.txt\", \"r\") as fp:\n",
    "    for command in fp.readlines():\n",
    "        command = command.strip()\n",
    "        direction, steps = command.split(\" \")\n",
    "        steps = int(steps)\n",
    "        for i in range(steps):\n",
    "            new_head = move(head, direction_movement.get(direction))\n",
    "            new_tails = [(0,0) for i in tails]\n",
    "            new_tails[0] = move_tail(head, new_head, tails[0], direction)\n",
    "            for i in range(1,len(tails)):\n",
    "                new_tails[i] = move_tail(tails[i-1], new_tails[i-1], tails[i], direction)\n",
    "            for x in range(len(new_tails)):\n",
    "                tails[x] = new_tails[x]\n",
    "            tail_position.add(tails[-1])\n",
    "            head = new_head\n",
    "print(len(tail_position))\n",
    "\n",
    "      \n",
    "      \n",
    "# x Rope Length\n",
    "# Optimized version            \n",
    "def mimc_tail_movement(rope_length):\n",
    "    rope = [(0,0) for i in range(rope_length)]\n",
    "    tail_position = set()\n",
    "    with open(\"input9.txt\", \"r\") as fp:\n",
    "        for command in fp.readlines():\n",
    "            command = command.strip()\n",
    "            direction, steps = command.split(\" \")\n",
    "            steps = int(steps)\n",
    "            for i in range(steps):\n",
    "                new_rope = [(0,0) for z in rope]\n",
    "                new_rope[0] = move(rope[0], direction_movement.get(direction))\n",
    "                for i in range(1, len(rope)):\n",
    "                    new_rope[i] = move_tail(rope[i-1], new_rope[i-1], rope[i], direction)\n",
    "                for x in range(len(new_rope)):\n",
    "                    rope[x] = new_rope[x]\n",
    "                tail_position.add(rope[-1])\n",
    "    return len(tail_position)\n",
    "\n",
    "print(mimc_tail_movement(2))\n",
    "print(mimc_tail_movement(10))\n"
   ]
  },
  {
   "cell_type": "code",
   "execution_count": null,
   "metadata": {},
   "outputs": [],
   "source": []
  }
 ],
 "metadata": {
  "kernelspec": {
   "display_name": "Python 3.10.8 64-bit (microsoft store)",
   "language": "python",
   "name": "python3"
  },
  "language_info": {
   "codemirror_mode": {
    "name": "ipython",
    "version": 3
   },
   "file_extension": ".py",
   "mimetype": "text/x-python",
   "name": "python",
   "nbconvert_exporter": "python",
   "pygments_lexer": "ipython3",
   "version": "3.10.9"
  },
  "orig_nbformat": 4,
  "vscode": {
   "interpreter": {
    "hash": "33361819892867e0bd947e0a26fa049314aead577d60fb79568bff7a065f295f"
   }
  }
 },
 "nbformat": 4,
 "nbformat_minor": 2
}
