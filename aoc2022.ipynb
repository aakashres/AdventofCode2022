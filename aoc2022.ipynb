{
 "cells": [
  {
   "cell_type": "code",
   "execution_count": 35,
   "metadata": {},
   "outputs": [
    {
     "data": {
      "text/plain": [
       "(71780, 212489)"
      ]
     },
     "execution_count": 35,
     "metadata": {},
     "output_type": "execute_result"
    }
   ],
   "source": [
    "# Day 1\n",
    "calories = []\n",
    "with open(\"input1.txt\", \"r\") as fp:\n",
    "    e_sum = 0\n",
    "    for i in fp.readlines():\n",
    "        try:\n",
    "            x = int(i.strip(\"\\n\"))\n",
    "            e_sum += x\n",
    "        except:\n",
    "            calories.append(e_sum)\n",
    "            e_sum=0\n",
    "calories.sort(reverse=True)\n",
    "calories[0], calories[0] + calories[1] + calories[2]"
   ]
  },
  {
   "cell_type": "code",
   "execution_count": null,
   "metadata": {},
   "outputs": [],
   "source": []
  }
 ],
 "metadata": {
  "kernelspec": {
   "display_name": "Python 3.10.8 64-bit (microsoft store)",
   "language": "python",
   "name": "python3"
  },
  "language_info": {
   "codemirror_mode": {
    "name": "ipython",
    "version": 3
   },
   "file_extension": ".py",
   "mimetype": "text/x-python",
   "name": "python",
   "nbconvert_exporter": "python",
   "pygments_lexer": "ipython3",
   "version": "3.10.8"
  },
  "orig_nbformat": 4,
  "vscode": {
   "interpreter": {
    "hash": "33361819892867e0bd947e0a26fa049314aead577d60fb79568bff7a065f295f"
   }
  }
 },
 "nbformat": 4,
 "nbformat_minor": 2
}
