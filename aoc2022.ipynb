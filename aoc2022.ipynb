{
 "cells": [
  {
   "cell_type": "code",
   "execution_count": 1,
   "metadata": {},
   "outputs": [
    {
     "data": {
      "text/plain": [
       "(71780, 212489)"
      ]
     },
     "execution_count": 1,
     "metadata": {},
     "output_type": "execute_result"
    }
   ],
   "source": [
    "# Day 1\n",
    "calories = []\n",
    "with open(\"input1.txt\", \"r\") as fp:\n",
    "    e_sum = 0\n",
    "    for i in fp.readlines():\n",
    "        try:\n",
    "            x = int(i.strip(\"\\n\"))\n",
    "            e_sum += x\n",
    "        except ValueError:\n",
    "            calories.append(e_sum)\n",
    "            e_sum=0\n",
    "calories.sort(reverse=True)\n",
    "calories[0], calories[0] + calories[1] + calories[2]"
   ]
  },
  {
   "cell_type": "code",
   "execution_count": 2,
   "metadata": {},
   "outputs": [
    {
     "data": {
      "text/plain": [
       "212489"
      ]
     },
     "execution_count": 2,
     "metadata": {},
     "output_type": "execute_result"
    }
   ],
   "source": [
    "# Day 1\n",
    "first, second, third = 0, 0, 0\n",
    "with open(\"input1.txt\", \"r\") as fp:\n",
    "    e_sum = 0\n",
    "    for i in fp.readlines():\n",
    "        try:\n",
    "            e_sum += int(i.strip(\"\\n\"))\n",
    "        except ValueError:\n",
    "            if e_sum >= first:\n",
    "                third, second, first = second, first, e_sum\n",
    "            elif e_sum >= second:\n",
    "                third, second = second, e_sum\n",
    "            elif e_sum >= third:\n",
    "                third = e_sum\n",
    "            e_sum = 0\n",
    "                \n",
    "first + second + third"
   ]
  },
  {
   "cell_type": "code",
   "execution_count": 3,
   "metadata": {},
   "outputs": [
    {
     "data": {
      "text/plain": [
       "12772"
      ]
     },
     "execution_count": 3,
     "metadata": {},
     "output_type": "execute_result"
    }
   ],
   "source": [
    "# Day 2\n",
    "score_map = {\n",
    "    \"A\": (\"Rock\", 1),\n",
    "    \"B\": (\"Paper\", 2),\n",
    "    \"C\": (\"Scissors\", 3),\n",
    "    \"X\": (\"Rock\", 1),\n",
    "    \"Y\": (\"Paper\", 2),\n",
    "    \"Z\": (\"Scissors\", 3),\n",
    "}\n",
    "my_score = 0\n",
    "with open(\"input2.txt\", \"r\") as fp:\n",
    "    for i in fp.readlines():\n",
    "        o, m = i.strip(\"\\n\").split(\" \")\n",
    "        o_i, m_i = score_map.get(o)[0], score_map.get(m)[0]\n",
    "        my_score += score_map.get(m)[1]\n",
    "        if (m_i == \"Rock\" and o_i == \"Scissors\") or (m_i == \"Scissors\" and o_i == \"Paper\") or (m_i == \"Paper\" and o_i == \"Rock\"):\n",
    "            my_score += 6\n",
    "        elif (m_i == o_i):\n",
    "            my_score += 3\n",
    "my_score"
   ]
  },
  {
   "cell_type": "code",
   "execution_count": 4,
   "metadata": {},
   "outputs": [
    {
     "data": {
      "text/plain": [
       "11618"
      ]
     },
     "execution_count": 4,
     "metadata": {},
     "output_type": "execute_result"
    }
   ],
   "source": [
    "# Day 2\n",
    "score_map = {\n",
    "    \"A\": (\"Rock\", 1),\n",
    "    \"B\": (\"Paper\", 2),\n",
    "    \"C\": (\"Scissors\", 3),\n",
    "    \"Rock\": 1,\n",
    "    \"Paper\":2,\n",
    "    \"Scissors\":3,\n",
    "    \"X\": 2,\n",
    "    \"Y\": 1,\n",
    "    \"Z\": 0\n",
    "}\n",
    "instruction_map = {\n",
    "    \"Rock\": (\"Paper\", \"Rock\" ,\"Scissors\"),\n",
    "    \"Paper\": (\"Scissors\", \"Paper\", \"Rock\"),\n",
    "    \"Scissors\": (\"Rock\", \"Scissors\", \"Paper\"),\n",
    "}\n",
    "my_score = 0\n",
    "with open(\"input2.txt\", \"r\") as fp:\n",
    "    for i in fp.readlines():\n",
    "        o, m = i.strip(\"\\n\").split(\" \")\n",
    "        o_i = score_map.get(o)[0]\n",
    "        m_i = instruction_map.get(o_i)[score_map.get(m)]\n",
    "        my_score += score_map.get(m_i)\n",
    "        if (m_i == \"Rock\" and o_i == \"Scissors\") or (m_i == \"Scissors\" and o_i == \"Paper\") or (m_i == \"Paper\" and o_i == \"Rock\"):\n",
    "            my_score += 6\n",
    "        elif (m_i == o_i):\n",
    "            my_score += 3\n",
    "my_score"
   ]
  },
  {
   "cell_type": "code",
   "execution_count": 31,
   "metadata": {},
   "outputs": [
    {
     "data": {
      "text/plain": [
       "7811"
      ]
     },
     "execution_count": 31,
     "metadata": {},
     "output_type": "execute_result"
    }
   ],
   "source": [
    "#Day 3\n",
    "total = 0\n",
    "with open(\"input3.txt\", \"r\") as fp:\n",
    "    for i in fp.readlines():\n",
    "        i = i.strip(\"\\n\")\n",
    "        mid = len(i)//2\n",
    "        first, second = i[0:mid], i[mid:]\n",
    "        common = list(set(first) & set(second))[0]\n",
    "        val = ord(common)\n",
    "        val = (val-96) if val > 96 else (val - 64 + 26)\n",
    "        total += val\n",
    "total"
   ]
  },
  {
   "cell_type": "code",
   "execution_count": 42,
   "metadata": {},
   "outputs": [
    {
     "data": {
      "text/plain": [
       "2639"
      ]
     },
     "execution_count": 42,
     "metadata": {},
     "output_type": "execute_result"
    }
   ],
   "source": [
    "#Day 3\n",
    "badges, count, total = [\"\", \"\", \"\"], 0, 0\n",
    "with open(\"input3.txt\", \"r\") as fp:\n",
    "    for i in fp.readlines():\n",
    "        badges[count%3] = i.strip(\"\\n\")\n",
    "        if (count+1)%3 == 0:\n",
    "            common = list(set(badges[0]) & set(badges[1]) & set(badges[2]))[0]\n",
    "            val = ord(common)\n",
    "            val = (val-96) if val > 96 else (val - 64 + 26)\n",
    "            total += val\n",
    "        count += 1\n",
    "total"
   ]
  }
 ],
 "metadata": {
  "kernelspec": {
   "display_name": "Python 3.10.8 64-bit (microsoft store)",
   "language": "python",
   "name": "python3"
  },
  "language_info": {
   "codemirror_mode": {
    "name": "ipython",
    "version": 3
   },
   "file_extension": ".py",
   "mimetype": "text/x-python",
   "name": "python",
   "nbconvert_exporter": "python",
   "pygments_lexer": "ipython3",
   "version": "3.10.8"
  },
  "orig_nbformat": 4,
  "vscode": {
   "interpreter": {
    "hash": "33361819892867e0bd947e0a26fa049314aead577d60fb79568bff7a065f295f"
   }
  }
 },
 "nbformat": 4,
 "nbformat_minor": 2
}
